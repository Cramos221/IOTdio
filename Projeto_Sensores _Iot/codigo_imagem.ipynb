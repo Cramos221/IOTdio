{
 "cells": [
  {
   "cell_type": "code",
   "execution_count": null,
   "id": "4e17b32d",
   "metadata": {
    "vscode": {
     "languageId": "plaintext"
    }
   },
   "outputs": [],
   "source": [
    "from ultralytics import YOLO\n",
    "import cv2\n",
    "from google.colab.patches import cv2_imshow  # Para exibir imagens no Colab\n",
    "from google.colab import files\n",
    "uploaded = files.upload()  # Escolha a imagem no seu PC\n",
    "\n",
    "# Carrega o modelo YOLOv8n (pré-treinado)\n",
    "model = YOLO('yolov8n.pt')\n",
    "\n",
    "# Detecta objetos na imagem\n",
    "results = model('teste.png')\n",
    "\n",
    "# Mostra o resultado\n",
    "for r in results:\n",
    "    im_array = r.plot()  # Gera imagem com as bounding boxes\n",
    "    cv2_imshow(im_array)  # Exibe no Colab"
   ]
  },
  {
   "cell_type": "code",
   "execution_count": null,
   "id": "ec54f767",
   "metadata": {
    "vscode": {
     "languageId": "plaintext"
    }
   },
   "outputs": [],
   "source": []
  }
 ],
 "metadata": {
  "language_info": {
   "name": "python"
  }
 },
 "nbformat": 4,
 "nbformat_minor": 5
}
