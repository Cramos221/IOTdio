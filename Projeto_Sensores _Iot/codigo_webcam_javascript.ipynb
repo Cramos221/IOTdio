{
 "cells": [
  {
   "cell_type": "code",
   "execution_count": null,
   "id": "ca4e2683",
   "metadata": {
    "vscode": {
     "languageId": "plaintext"
    }
   },
   "outputs": [],
   "source": [
    "from IPython.display import display, Javascript\n",
    "from google.colab.output import eval_js\n",
    "from base64 import b64decode\n",
    "\n",
    "# Código para capturar imagem da webcam\n",
    "js = Javascript('''\n",
    "  async function capture() {\n",
    "    const div = document.createElement('div');\n",
    "    const video = document.createElement('video');\n",
    "    video.style.display = 'block';\n",
    "    const stream = await navigator.mediaDevices.getUserMedia({video: true});\n",
    "    document.body.appendChild(div);\n",
    "    div.appendChild(video);\n",
    "    video.srcObject = stream;\n",
    "    await video.play();\n",
    "\n",
    "    // Espera um frame\n",
    "    await new Promise(resolve => setTimeout(resolve, 1000));\n",
    "    const canvas = document.createElement('canvas');\n",
    "    canvas.width = video.videoWidth;\n",
    "    canvas.height = video.videoHeight;\n",
    "    canvas.getContext('2d').drawImage(video, 0, 0);\n",
    "    stream.getVideoTracks()[0].stop();\n",
    "    div.remove();\n",
    "    return canvas.toDataURL('image/jpeg', 0.8);\n",
    "  }\n",
    "''')\n",
    "display(js)\n",
    "foto_b64 = eval_js('capture()')\n",
    "foto_bytes = b64decode(foto_b64.split(',')[1])\n",
    "\n",
    "# Salva e processa a imagem\n",
    "with open('webcam.jpg', 'wb') as f:\n",
    "    f.write(foto_bytes)\n",
    "results = model('webcam.jpg')\n",
    "results[0].show()"
   ]
  }
 ],
 "metadata": {
  "language_info": {
   "name": "python"
  }
 },
 "nbformat": 4,
 "nbformat_minor": 5
}
